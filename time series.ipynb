{
 "cells": [
  {
   "cell_type": "code",
   "execution_count": 2,
   "id": "56d07eb0-c88b-44ba-9a38-6caf17559143",
   "metadata": {},
   "outputs": [],
   "source": [
    "from datetime import datetime"
   ]
  },
  {
   "cell_type": "code",
   "execution_count": 3,
   "id": "9b09c1b5-e837-43b0-93a3-e48124c6c2cf",
   "metadata": {},
   "outputs": [],
   "source": [
    "year = 2021\n",
    "month = 1\n",
    "day = 1"
   ]
  },
  {
   "cell_type": "code",
   "execution_count": 54,
   "id": "c875426c-3437-481a-8c55-e5f84bedbf9c",
   "metadata": {},
   "outputs": [
    {
     "name": "stdout",
     "output_type": "stream",
     "text": [
      "2021-01-01 00:00:00\n"
     ]
    }
   ],
   "source": [
    "my_date = datetime(year,month,day)\n",
    "print(my_date)"
   ]
  },
  {
   "cell_type": "code",
   "execution_count": 5,
   "id": "19e708ec-d295-4c12-b48d-2ee02c86ea29",
   "metadata": {},
   "outputs": [
    {
     "name": "stdout",
     "output_type": "stream",
     "text": [
      "1\n",
      "2021\n",
      "1\n",
      "0\n"
     ]
    }
   ],
   "source": [
    "# extract info from date\n",
    "print(my_date.month)\n",
    "print(my_date.year)\n",
    "print(my_date.day)\n",
    "print(my_date.hour)"
   ]
  },
  {
   "cell_type": "code",
   "execution_count": 58,
   "id": "8003d661-8c5e-48cc-b5c7-b5951c53b0c3",
   "metadata": {},
   "outputs": [
    {
     "data": {
      "text/plain": [
       "1"
      ]
     },
     "execution_count": 58,
     "metadata": {},
     "output_type": "execute_result"
    }
   ],
   "source": [
    "my_date.month"
   ]
  },
  {
   "cell_type": "code",
   "execution_count": 56,
   "id": "7c2f40a9-6a4e-4cf8-95ef-6af42915e21f",
   "metadata": {},
   "outputs": [
    {
     "data": {
      "text/plain": [
       "5"
      ]
     },
     "execution_count": 56,
     "metadata": {},
     "output_type": "execute_result"
    }
   ],
   "source": [
    "my_date.isoweekday() # returns day of the week of the date"
   ]
  },
  {
   "cell_type": "code",
   "execution_count": 52,
   "id": "d99e1e27-bd50-4ab2-977d-d921b2db3287",
   "metadata": {},
   "outputs": [
    {
     "data": {
      "text/plain": [
       "4"
      ]
     },
     "execution_count": 52,
     "metadata": {},
     "output_type": "execute_result"
    }
   ],
   "source": [
    "my_date.weekday() #\n",
    "#Return the day of the week represented by the date. Monday == 0 ... Sunday == 6"
   ]
  },
  {
   "cell_type": "markdown",
   "id": "ee5214f1-37d2-43c2-8808-e141d6410d52",
   "metadata": {},
   "source": [
    "## Numpy datetime arrays"
   ]
  },
  {
   "cell_type": "code",
   "execution_count": 7,
   "id": "0a96c457-7063-4716-8d54-896abdf572bd",
   "metadata": {},
   "outputs": [
    {
     "data": {
      "text/plain": [
       "array(['2020-01-20', '2021-01-20'], dtype='datetime64[D]')"
      ]
     },
     "execution_count": 7,
     "metadata": {},
     "output_type": "execute_result"
    }
   ],
   "source": [
    "# creating datetime arrays\n",
    "\n",
    "import numpy as np\n",
    "np.array(['2020-01-20','2021-01-20'], dtype = 'datetime64')"
   ]
  },
  {
   "cell_type": "code",
   "execution_count": 8,
   "id": "27b03700-2965-4645-b3e6-dd5befdc9c31",
   "metadata": {},
   "outputs": [
    {
     "data": {
      "text/plain": [
       "array(['2020', '2021'], dtype='datetime64[Y]')"
      ]
     },
     "execution_count": 8,
     "metadata": {},
     "output_type": "execute_result"
    }
   ],
   "source": [
    "np.array(['2020-01-20','2021-01-20'], dtype = 'datetime64[Y]')"
   ]
  },
  {
   "cell_type": "code",
   "execution_count": 9,
   "id": "93fefb42-68c1-4721-b11d-77f9dffe308b",
   "metadata": {},
   "outputs": [
    {
     "data": {
      "text/plain": [
       "array(['2020-01', '2021-01'], dtype='datetime64[M]')"
      ]
     },
     "execution_count": 9,
     "metadata": {},
     "output_type": "execute_result"
    }
   ],
   "source": [
    "np.array(['2020-01-20','2021-01-20'], dtype = 'datetime64[M]')"
   ]
  },
  {
   "cell_type": "code",
   "execution_count": 10,
   "id": "6fe94783-ffd0-4a72-9b7a-eb3becf3b600",
   "metadata": {},
   "outputs": [
    {
     "data": {
      "text/plain": [
       "array(['2020-01-20T00', '2021-01-20T00'], dtype='datetime64[h]')"
      ]
     },
     "execution_count": 10,
     "metadata": {},
     "output_type": "execute_result"
    }
   ],
   "source": [
    "np.array(['2020-01-20','2021-01-20'], dtype = 'datetime64[h]')"
   ]
  },
  {
   "cell_type": "code",
   "execution_count": 11,
   "id": "330f9540-72ea-4316-88ad-e5fe59bfaa06",
   "metadata": {},
   "outputs": [
    {
     "data": {
      "text/plain": [
       "array(['2021-01-01', '2021-01-02', '2021-01-03', '2021-01-04',\n",
       "       '2021-01-05', '2021-01-06', '2021-01-07', '2021-01-08',\n",
       "       '2021-01-09'], dtype='datetime64[D]')"
      ]
     },
     "execution_count": 11,
     "metadata": {},
     "output_type": "execute_result"
    }
   ],
   "source": [
    "# np.arange to generate series of dates\n",
    "np.arange('2021-01-01','2021-01-10',dtype='datetime64[D]')"
   ]
  },
  {
   "cell_type": "markdown",
   "id": "66351523-df22-49e0-bfcf-b9fb85d2dabe",
   "metadata": {},
   "source": [
    "## Pandas datetime"
   ]
  },
  {
   "cell_type": "code",
   "execution_count": 12,
   "id": "82c222cb-9b65-47d4-9f6b-695ad19b3c3a",
   "metadata": {},
   "outputs": [],
   "source": [
    "import pandas as pd"
   ]
  },
  {
   "cell_type": "code",
   "execution_count": 13,
   "id": "80d8679d-344d-4da4-ab76-fdab652bccf0",
   "metadata": {},
   "outputs": [
    {
     "data": {
      "text/plain": [
       "'\\nfreq can take several formats\\ne.g. \\nB - business days\\nC - custom business days\\nD - calendar day frequency\\netc\\ncheck - google it\\n'"
      ]
     },
     "execution_count": 13,
     "metadata": {},
     "output_type": "execute_result"
    }
   ],
   "source": [
    "# create index first\n",
    "index = pd.date_range('2020-01-01',periods = 7, freq = 'D')\n",
    "index\n",
    "'''\n",
    "freq can take several formats\n",
    "e.g. \n",
    "B - business days\n",
    "C - custom business days\n",
    "D - calendar day frequency\n",
    "etc\n",
    "check - google it\n",
    "'''"
   ]
  },
  {
   "cell_type": "markdown",
   "id": "4b14452d-ac98-4b5f-a2f7-139a933bf6c0",
   "metadata": {},
   "source": [
    "#### to create specific days\n"
   ]
  },
  {
   "cell_type": "code",
   "execution_count": 14,
   "id": "0664b2a4-59ff-4c10-8d16-3cf1295f5436",
   "metadata": {},
   "outputs": [
    {
     "data": {
      "text/plain": [
       "DatetimeIndex(['2021-01-06', '2021-01-21'], dtype='datetime64[ns]', freq=None)"
      ]
     },
     "execution_count": 14,
     "metadata": {},
     "output_type": "execute_result"
    }
   ],
   "source": [
    "# 1. converting string to date time\n",
    "custom_index = pd.to_datetime(['2021-01-06','2021-01-21'])\n",
    "custom_index"
   ]
  },
  {
   "cell_type": "code",
   "execution_count": 15,
   "id": "7b3766ef-e950-46e6-b662-b509094ec2b9",
   "metadata": {},
   "outputs": [
    {
     "data": {
      "text/plain": [
       "DatetimeIndex(['2021-01-01', '2021-01-19'], dtype='datetime64[ns]', freq=None)"
      ]
     },
     "execution_count": 15,
     "metadata": {},
     "output_type": "execute_result"
    }
   ],
   "source": [
    "custom_index = pd.DatetimeIndex(np.array(['2021-01-01', '2021-01-19']))\n",
    "custom_index"
   ]
  },
  {
   "cell_type": "code",
   "execution_count": 16,
   "id": "65a093bb-1458-4b2a-843b-a61c4e6de92c",
   "metadata": {},
   "outputs": [
    {
     "data": {
      "text/html": [
       "<div>\n",
       "<style scoped>\n",
       "    .dataframe tbody tr th:only-of-type {\n",
       "        vertical-align: middle;\n",
       "    }\n",
       "\n",
       "    .dataframe tbody tr th {\n",
       "        vertical-align: top;\n",
       "    }\n",
       "\n",
       "    .dataframe thead th {\n",
       "        text-align: right;\n",
       "    }\n",
       "</style>\n",
       "<table border=\"1\" class=\"dataframe\">\n",
       "  <thead>\n",
       "    <tr style=\"text-align: right;\">\n",
       "      <th></th>\n",
       "      <th>Event</th>\n",
       "    </tr>\n",
       "  </thead>\n",
       "  <tbody>\n",
       "    <tr>\n",
       "      <th>2021-01-01</th>\n",
       "      <td>first day of year</td>\n",
       "    </tr>\n",
       "    <tr>\n",
       "      <th>2021-01-19</th>\n",
       "      <td>first day of school</td>\n",
       "    </tr>\n",
       "  </tbody>\n",
       "</table>\n",
       "</div>"
      ],
      "text/plain": [
       "                          Event\n",
       "2021-01-01    first day of year\n",
       "2021-01-19  first day of school"
      ]
     },
     "execution_count": 16,
     "metadata": {},
     "output_type": "execute_result"
    }
   ],
   "source": [
    "#creating a time series dataframe\n",
    "# pd.DataFrame(data, index, column names)\n",
    "df = pd.DataFrame(['first day of year', 'first day of school'], custom_index, ['Event'])\n",
    "df"
   ]
  },
  {
   "cell_type": "code",
   "execution_count": 17,
   "id": "41d74d13-5570-483b-acf4-df8f761e1c4c",
   "metadata": {},
   "outputs": [
    {
     "data": {
      "text/plain": [
       "Timestamp('2021-01-19 00:00:00')"
      ]
     },
     "execution_count": 17,
     "metadata": {},
     "output_type": "execute_result"
    }
   ],
   "source": [
    "df.index.max()"
   ]
  },
  {
   "cell_type": "code",
   "execution_count": 18,
   "id": "7ea509a1-8e46-460e-a59d-5d81ade3f96c",
   "metadata": {},
   "outputs": [
    {
     "data": {
      "text/plain": [
       "1"
      ]
     },
     "execution_count": 18,
     "metadata": {},
     "output_type": "execute_result"
    }
   ],
   "source": [
    "df.index.argmax()"
   ]
  },
  {
   "cell_type": "markdown",
   "id": "278267ea-df13-48d1-9e2b-547500c4aca9",
   "metadata": {},
   "source": [
    "Pandas data reader"
   ]
  },
  {
   "cell_type": "code",
   "execution_count": 19,
   "id": "089c044f-a894-4e62-a6f3-ec30b602f3f7",
   "metadata": {},
   "outputs": [],
   "source": [
    "import pandas_datareader.data as web"
   ]
  },
  {
   "cell_type": "code",
   "execution_count": 1,
   "id": "88822c28-e87e-418f-94da-15f1991dd691",
   "metadata": {},
   "outputs": [],
   "source": [
    "import pandas as pd\n",
    "start = pd.to_datetime('2020-01-01')\n",
    "end = pd.to_datetime('today')\n"
   ]
  },
  {
   "cell_type": "code",
   "execution_count": 23,
   "id": "111385e2-3967-4757-ba39-cf6da2d66f37",
   "metadata": {},
   "outputs": [
    {
     "data": {
      "text/plain": [
       "['TSLA', 'AAPL']"
      ]
     },
     "execution_count": 23,
     "metadata": {},
     "output_type": "execute_result"
    }
   ],
   "source": [
    "Ticker = \"TSLA AAPL\".split() # TSLA -> Tesla, AAPL -> Apple\n",
    "Ticker"
   ]
  },
  {
   "cell_type": "code",
   "execution_count": 24,
   "id": "061c5043-1c78-431b-8e37-4bb8893670a8",
   "metadata": {},
   "outputs": [
    {
     "data": {
      "text/html": [
       "<div>\n",
       "<style scoped>\n",
       "    .dataframe tbody tr th:only-of-type {\n",
       "        vertical-align: middle;\n",
       "    }\n",
       "\n",
       "    .dataframe tbody tr th {\n",
       "        vertical-align: top;\n",
       "    }\n",
       "\n",
       "    .dataframe thead tr th {\n",
       "        text-align: left;\n",
       "    }\n",
       "\n",
       "    .dataframe thead tr:last-of-type th {\n",
       "        text-align: right;\n",
       "    }\n",
       "</style>\n",
       "<table border=\"1\" class=\"dataframe\">\n",
       "  <thead>\n",
       "    <tr>\n",
       "      <th>Attributes</th>\n",
       "      <th colspan=\"2\" halign=\"left\">Adj Close</th>\n",
       "      <th colspan=\"2\" halign=\"left\">Close</th>\n",
       "      <th colspan=\"2\" halign=\"left\">High</th>\n",
       "      <th colspan=\"2\" halign=\"left\">Low</th>\n",
       "      <th colspan=\"2\" halign=\"left\">Open</th>\n",
       "      <th colspan=\"2\" halign=\"left\">Volume</th>\n",
       "    </tr>\n",
       "    <tr>\n",
       "      <th>Symbols</th>\n",
       "      <th>TSLA</th>\n",
       "      <th>AAPL</th>\n",
       "      <th>TSLA</th>\n",
       "      <th>AAPL</th>\n",
       "      <th>TSLA</th>\n",
       "      <th>AAPL</th>\n",
       "      <th>TSLA</th>\n",
       "      <th>AAPL</th>\n",
       "      <th>TSLA</th>\n",
       "      <th>AAPL</th>\n",
       "      <th>TSLA</th>\n",
       "      <th>AAPL</th>\n",
       "    </tr>\n",
       "    <tr>\n",
       "      <th>Date</th>\n",
       "      <th></th>\n",
       "      <th></th>\n",
       "      <th></th>\n",
       "      <th></th>\n",
       "      <th></th>\n",
       "      <th></th>\n",
       "      <th></th>\n",
       "      <th></th>\n",
       "      <th></th>\n",
       "      <th></th>\n",
       "      <th></th>\n",
       "      <th></th>\n",
       "    </tr>\n",
       "  </thead>\n",
       "  <tbody>\n",
       "    <tr>\n",
       "      <th>2020-01-02</th>\n",
       "      <td>86.052002</td>\n",
       "      <td>74.096443</td>\n",
       "      <td>86.052002</td>\n",
       "      <td>75.087502</td>\n",
       "      <td>86.139999</td>\n",
       "      <td>75.150002</td>\n",
       "      <td>84.342003</td>\n",
       "      <td>73.797501</td>\n",
       "      <td>84.900002</td>\n",
       "      <td>74.059998</td>\n",
       "      <td>47660500.0</td>\n",
       "      <td>135480400.0</td>\n",
       "    </tr>\n",
       "    <tr>\n",
       "      <th>2020-01-03</th>\n",
       "      <td>88.601997</td>\n",
       "      <td>73.376083</td>\n",
       "      <td>88.601997</td>\n",
       "      <td>74.357498</td>\n",
       "      <td>90.800003</td>\n",
       "      <td>75.144997</td>\n",
       "      <td>87.384003</td>\n",
       "      <td>74.125000</td>\n",
       "      <td>88.099998</td>\n",
       "      <td>74.287498</td>\n",
       "      <td>88892500.0</td>\n",
       "      <td>146322800.0</td>\n",
       "    </tr>\n",
       "    <tr>\n",
       "      <th>2020-01-06</th>\n",
       "      <td>90.307999</td>\n",
       "      <td>73.960770</td>\n",
       "      <td>90.307999</td>\n",
       "      <td>74.949997</td>\n",
       "      <td>90.311996</td>\n",
       "      <td>74.989998</td>\n",
       "      <td>88.000000</td>\n",
       "      <td>73.187500</td>\n",
       "      <td>88.094002</td>\n",
       "      <td>73.447502</td>\n",
       "      <td>50665000.0</td>\n",
       "      <td>118387200.0</td>\n",
       "    </tr>\n",
       "    <tr>\n",
       "      <th>2020-01-07</th>\n",
       "      <td>93.811996</td>\n",
       "      <td>73.612930</td>\n",
       "      <td>93.811996</td>\n",
       "      <td>74.597504</td>\n",
       "      <td>94.325996</td>\n",
       "      <td>75.224998</td>\n",
       "      <td>90.671997</td>\n",
       "      <td>74.370003</td>\n",
       "      <td>92.279999</td>\n",
       "      <td>74.959999</td>\n",
       "      <td>89410500.0</td>\n",
       "      <td>108872000.0</td>\n",
       "    </tr>\n",
       "    <tr>\n",
       "      <th>2020-01-08</th>\n",
       "      <td>98.428001</td>\n",
       "      <td>74.797081</td>\n",
       "      <td>98.428001</td>\n",
       "      <td>75.797501</td>\n",
       "      <td>99.697998</td>\n",
       "      <td>76.110001</td>\n",
       "      <td>93.646004</td>\n",
       "      <td>74.290001</td>\n",
       "      <td>94.739998</td>\n",
       "      <td>74.290001</td>\n",
       "      <td>155721500.0</td>\n",
       "      <td>132079200.0</td>\n",
       "    </tr>\n",
       "    <tr>\n",
       "      <th>...</th>\n",
       "      <td>...</td>\n",
       "      <td>...</td>\n",
       "      <td>...</td>\n",
       "      <td>...</td>\n",
       "      <td>...</td>\n",
       "      <td>...</td>\n",
       "      <td>...</td>\n",
       "      <td>...</td>\n",
       "      <td>...</td>\n",
       "      <td>...</td>\n",
       "      <td>...</td>\n",
       "      <td>...</td>\n",
       "    </tr>\n",
       "    <tr>\n",
       "      <th>2021-09-13</th>\n",
       "      <td>743.000000</td>\n",
       "      <td>149.550003</td>\n",
       "      <td>743.000000</td>\n",
       "      <td>149.550003</td>\n",
       "      <td>744.780029</td>\n",
       "      <td>151.419998</td>\n",
       "      <td>708.849976</td>\n",
       "      <td>148.750000</td>\n",
       "      <td>740.210022</td>\n",
       "      <td>150.630005</td>\n",
       "      <td>22952500.0</td>\n",
       "      <td>102404300.0</td>\n",
       "    </tr>\n",
       "    <tr>\n",
       "      <th>2021-09-14</th>\n",
       "      <td>744.489990</td>\n",
       "      <td>148.119995</td>\n",
       "      <td>744.489990</td>\n",
       "      <td>148.119995</td>\n",
       "      <td>754.469971</td>\n",
       "      <td>151.070007</td>\n",
       "      <td>736.400024</td>\n",
       "      <td>146.910004</td>\n",
       "      <td>742.570007</td>\n",
       "      <td>150.350006</td>\n",
       "      <td>18524900.0</td>\n",
       "      <td>109296300.0</td>\n",
       "    </tr>\n",
       "    <tr>\n",
       "      <th>2021-09-15</th>\n",
       "      <td>755.830017</td>\n",
       "      <td>149.029999</td>\n",
       "      <td>755.830017</td>\n",
       "      <td>149.029999</td>\n",
       "      <td>756.859985</td>\n",
       "      <td>149.440002</td>\n",
       "      <td>738.359985</td>\n",
       "      <td>146.369995</td>\n",
       "      <td>745.000000</td>\n",
       "      <td>148.559998</td>\n",
       "      <td>15357700.0</td>\n",
       "      <td>83281300.0</td>\n",
       "    </tr>\n",
       "    <tr>\n",
       "      <th>2021-09-16</th>\n",
       "      <td>756.989990</td>\n",
       "      <td>148.789993</td>\n",
       "      <td>756.989990</td>\n",
       "      <td>148.789993</td>\n",
       "      <td>758.909973</td>\n",
       "      <td>148.970001</td>\n",
       "      <td>747.609985</td>\n",
       "      <td>147.220001</td>\n",
       "      <td>752.830017</td>\n",
       "      <td>148.440002</td>\n",
       "      <td>13923400.0</td>\n",
       "      <td>68034100.0</td>\n",
       "    </tr>\n",
       "    <tr>\n",
       "      <th>2021-09-17</th>\n",
       "      <td>759.489990</td>\n",
       "      <td>146.059998</td>\n",
       "      <td>759.489990</td>\n",
       "      <td>146.059998</td>\n",
       "      <td>761.039978</td>\n",
       "      <td>148.820007</td>\n",
       "      <td>750.000000</td>\n",
       "      <td>145.759995</td>\n",
       "      <td>757.150024</td>\n",
       "      <td>148.820007</td>\n",
       "      <td>28186100.0</td>\n",
       "      <td>129728700.0</td>\n",
       "    </tr>\n",
       "  </tbody>\n",
       "</table>\n",
       "<p>432 rows × 12 columns</p>\n",
       "</div>"
      ],
      "text/plain": [
       "Attributes   Adj Close                   Close                    High  \\\n",
       "Symbols           TSLA        AAPL        TSLA        AAPL        TSLA   \n",
       "Date                                                                     \n",
       "2020-01-02   86.052002   74.096443   86.052002   75.087502   86.139999   \n",
       "2020-01-03   88.601997   73.376083   88.601997   74.357498   90.800003   \n",
       "2020-01-06   90.307999   73.960770   90.307999   74.949997   90.311996   \n",
       "2020-01-07   93.811996   73.612930   93.811996   74.597504   94.325996   \n",
       "2020-01-08   98.428001   74.797081   98.428001   75.797501   99.697998   \n",
       "...                ...         ...         ...         ...         ...   \n",
       "2021-09-13  743.000000  149.550003  743.000000  149.550003  744.780029   \n",
       "2021-09-14  744.489990  148.119995  744.489990  148.119995  754.469971   \n",
       "2021-09-15  755.830017  149.029999  755.830017  149.029999  756.859985   \n",
       "2021-09-16  756.989990  148.789993  756.989990  148.789993  758.909973   \n",
       "2021-09-17  759.489990  146.059998  759.489990  146.059998  761.039978   \n",
       "\n",
       "Attributes                     Low                    Open              \\\n",
       "Symbols           AAPL        TSLA        AAPL        TSLA        AAPL   \n",
       "Date                                                                     \n",
       "2020-01-02   75.150002   84.342003   73.797501   84.900002   74.059998   \n",
       "2020-01-03   75.144997   87.384003   74.125000   88.099998   74.287498   \n",
       "2020-01-06   74.989998   88.000000   73.187500   88.094002   73.447502   \n",
       "2020-01-07   75.224998   90.671997   74.370003   92.279999   74.959999   \n",
       "2020-01-08   76.110001   93.646004   74.290001   94.739998   74.290001   \n",
       "...                ...         ...         ...         ...         ...   \n",
       "2021-09-13  151.419998  708.849976  148.750000  740.210022  150.630005   \n",
       "2021-09-14  151.070007  736.400024  146.910004  742.570007  150.350006   \n",
       "2021-09-15  149.440002  738.359985  146.369995  745.000000  148.559998   \n",
       "2021-09-16  148.970001  747.609985  147.220001  752.830017  148.440002   \n",
       "2021-09-17  148.820007  750.000000  145.759995  757.150024  148.820007   \n",
       "\n",
       "Attributes       Volume               \n",
       "Symbols            TSLA         AAPL  \n",
       "Date                                  \n",
       "2020-01-02   47660500.0  135480400.0  \n",
       "2020-01-03   88892500.0  146322800.0  \n",
       "2020-01-06   50665000.0  118387200.0  \n",
       "2020-01-07   89410500.0  108872000.0  \n",
       "2020-01-08  155721500.0  132079200.0  \n",
       "...                 ...          ...  \n",
       "2021-09-13   22952500.0  102404300.0  \n",
       "2021-09-14   18524900.0  109296300.0  \n",
       "2021-09-15   15357700.0   83281300.0  \n",
       "2021-09-16   13923400.0   68034100.0  \n",
       "2021-09-17   28186100.0  129728700.0  \n",
       "\n",
       "[432 rows x 12 columns]"
      ]
     },
     "execution_count": 24,
     "metadata": {},
     "output_type": "execute_result"
    }
   ],
   "source": [
    "Stocks = web.DataReader(name = Ticker, data_source = 'yahoo', start = start,\n",
    "                        end = end)\n",
    "Stocks"
   ]
  },
  {
   "cell_type": "code",
   "execution_count": 25,
   "id": "bcd13f8c-7c38-4d82-8fcc-d1a4d6faa694",
   "metadata": {},
   "outputs": [
    {
     "data": {
      "text/html": [
       "<div>\n",
       "<style scoped>\n",
       "    .dataframe tbody tr th:only-of-type {\n",
       "        vertical-align: middle;\n",
       "    }\n",
       "\n",
       "    .dataframe tbody tr th {\n",
       "        vertical-align: top;\n",
       "    }\n",
       "\n",
       "    .dataframe thead th {\n",
       "        text-align: right;\n",
       "    }\n",
       "</style>\n",
       "<table border=\"1\" class=\"dataframe\">\n",
       "  <thead>\n",
       "    <tr style=\"text-align: right;\">\n",
       "      <th>Symbols</th>\n",
       "      <th>TSLA</th>\n",
       "      <th>AAPL</th>\n",
       "    </tr>\n",
       "    <tr>\n",
       "      <th>Date</th>\n",
       "      <th></th>\n",
       "      <th></th>\n",
       "    </tr>\n",
       "  </thead>\n",
       "  <tbody>\n",
       "    <tr>\n",
       "      <th>2020-01-02</th>\n",
       "      <td>86.05</td>\n",
       "      <td>74.10</td>\n",
       "    </tr>\n",
       "    <tr>\n",
       "      <th>2020-01-03</th>\n",
       "      <td>88.60</td>\n",
       "      <td>73.38</td>\n",
       "    </tr>\n",
       "    <tr>\n",
       "      <th>2020-01-06</th>\n",
       "      <td>90.31</td>\n",
       "      <td>73.96</td>\n",
       "    </tr>\n",
       "    <tr>\n",
       "      <th>2020-01-07</th>\n",
       "      <td>93.81</td>\n",
       "      <td>73.61</td>\n",
       "    </tr>\n",
       "    <tr>\n",
       "      <th>2020-01-08</th>\n",
       "      <td>98.43</td>\n",
       "      <td>74.80</td>\n",
       "    </tr>\n",
       "  </tbody>\n",
       "</table>\n",
       "</div>"
      ],
      "text/plain": [
       "Symbols      TSLA   AAPL\n",
       "Date                    \n",
       "2020-01-02  86.05  74.10\n",
       "2020-01-03  88.60  73.38\n",
       "2020-01-06  90.31  73.96\n",
       "2020-01-07  93.81  73.61\n",
       "2020-01-08  98.43  74.80"
      ]
     },
     "execution_count": 25,
     "metadata": {},
     "output_type": "execute_result"
    }
   ],
   "source": [
    "df = Stocks['Adj Close'].round(2)\n",
    "df.head()"
   ]
  },
  {
   "cell_type": "code",
   "execution_count": 26,
   "id": "d03b816e-16b1-4e77-81c7-2a0b8323c201",
   "metadata": {},
   "outputs": [],
   "source": [
    "import matplotlib.pyplot as plt"
   ]
  },
  {
   "cell_type": "code",
   "execution_count": 27,
   "id": "ea2a7565-151e-406a-8dbd-09e2a0e28891",
   "metadata": {},
   "outputs": [
    {
     "data": {
      "image/png": "[encoded data removed]",
      "text/plain": [
       "<Figure size 576x288 with 1 Axes>"
      ]
     },
     "metadata": {
      "needs_background": "light"
     },
     "output_type": "display_data"
    }
   ],
   "source": [
    "plt.figure(figsize=(8,4))\n",
    "df['TSLA'].plot(c='red')\n",
    "plt.show()"
   ]
  },
  {
   "cell_type": "code",
   "execution_count": 28,
   "id": "8efc52f2-1508-4144-b4ad-0329c412104d",
   "metadata": {},
   "outputs": [
    {
     "data": {
      "text/plain": [
       "DatetimeIndex(['2020-01-02', '2020-01-03', '2020-01-06', '2020-01-07',\n",
       "               '2020-01-08', '2020-01-09', '2020-01-10', '2020-01-13',\n",
       "               '2020-01-14', '2020-01-15',\n",
       "               ...\n",
       "               '2021-09-03', '2021-09-07', '2021-09-08', '2021-09-09',\n",
       "               '2021-09-10', '2021-09-13', '2021-09-14', '2021-09-15',\n",
       "               '2021-09-16', '2021-09-17'],\n",
       "              dtype='datetime64[ns]', name='Date', length=432, freq=None)"
      ]
     },
     "execution_count": 28,
     "metadata": {},
     "output_type": "execute_result"
    }
   ],
   "source": [
    "df.index"
   ]
  },
  {
   "cell_type": "markdown",
   "id": "c3df5805-2d51-40ea-b46a-a434eb8070de",
   "metadata": {},
   "source": [
    "### Resampling"
   ]
  },
  {
   "cell_type": "code",
   "execution_count": 29,
   "id": "3766e0ba-7a01-4d39-8f32-4319c5201178",
   "metadata": {},
   "outputs": [
    {
     "data": {
      "text/plain": [
       "<bound method DataFrame.resample of Symbols       TSLA    AAPL\n",
       "Date                      \n",
       "2020-01-02   86.05   74.10\n",
       "2020-01-03   88.60   73.38\n",
       "2020-01-06   90.31   73.96\n",
       "2020-01-07   93.81   73.61\n",
       "2020-01-08   98.43   74.80\n",
       "...            ...     ...\n",
       "2021-09-13  743.00  149.55\n",
       "2021-09-14  744.49  148.12\n",
       "2021-09-15  755.83  149.03\n",
       "2021-09-16  756.99  148.79\n",
       "2021-09-17  759.49  146.06\n",
       "\n",
       "[432 rows x 2 columns]>"
      ]
     },
     "execution_count": 29,
     "metadata": {},
     "output_type": "execute_result"
    }
   ],
   "source": [
    "df.resample"
   ]
  },
  {
   "cell_type": "code",
   "execution_count": 30,
   "id": "48a94611-0865-4d04-9d16-ed13b14ef20f",
   "metadata": {},
   "outputs": [
    {
     "data": {
      "text/html": [
       "<div>\n",
       "<style scoped>\n",
       "    .dataframe tbody tr th:only-of-type {\n",
       "        vertical-align: middle;\n",
       "    }\n",
       "\n",
       "    .dataframe tbody tr th {\n",
       "        vertical-align: top;\n",
       "    }\n",
       "\n",
       "    .dataframe thead th {\n",
       "        text-align: right;\n",
       "    }\n",
       "</style>\n",
       "<table border=\"1\" class=\"dataframe\">\n",
       "  <thead>\n",
       "    <tr style=\"text-align: right;\">\n",
       "      <th>Symbols</th>\n",
       "      <th>TSLA</th>\n",
       "      <th>AAPL</th>\n",
       "    </tr>\n",
       "    <tr>\n",
       "      <th>Date</th>\n",
       "      <th></th>\n",
       "      <th></th>\n",
       "    </tr>\n",
       "  </thead>\n",
       "  <tbody>\n",
       "    <tr>\n",
       "      <th>2020-01-31</th>\n",
       "      <td>105.730952</td>\n",
       "      <td>76.950476</td>\n",
       "    </tr>\n",
       "    <tr>\n",
       "      <th>2020-02-29</th>\n",
       "      <td>159.489474</td>\n",
       "      <td>76.934737</td>\n",
       "    </tr>\n",
       "    <tr>\n",
       "      <th>2020-03-31</th>\n",
       "      <td>111.820455</td>\n",
       "      <td>64.897727</td>\n",
       "    </tr>\n",
       "    <tr>\n",
       "      <th>2020-04-30</th>\n",
       "      <td>132.719524</td>\n",
       "      <td>67.356667</td>\n",
       "    </tr>\n",
       "    <tr>\n",
       "      <th>2020-05-31</th>\n",
       "      <td>159.885000</td>\n",
       "      <td>76.811500</td>\n",
       "    </tr>\n",
       "    <tr>\n",
       "      <th>2020-06-30</th>\n",
       "      <td>192.708636</td>\n",
       "      <td>85.743636</td>\n",
       "    </tr>\n",
       "    <tr>\n",
       "      <th>2020-07-31</th>\n",
       "      <td>292.028636</td>\n",
       "      <td>94.784545</td>\n",
       "    </tr>\n",
       "    <tr>\n",
       "      <th>2020-08-31</th>\n",
       "      <td>360.060000</td>\n",
       "      <td>116.513333</td>\n",
       "    </tr>\n",
       "    <tr>\n",
       "      <th>2020-09-30</th>\n",
       "      <td>413.495238</td>\n",
       "      <td>114.389524</td>\n",
       "    </tr>\n",
       "    <tr>\n",
       "      <th>2020-10-31</th>\n",
       "      <td>427.209545</td>\n",
       "      <td>115.668636</td>\n",
       "    </tr>\n",
       "    <tr>\n",
       "      <th>2020-11-30</th>\n",
       "      <td>465.612500</td>\n",
       "      <td>116.240500</td>\n",
       "    </tr>\n",
       "    <tr>\n",
       "      <th>2020-12-31</th>\n",
       "      <td>638.818636</td>\n",
       "      <td>126.695000</td>\n",
       "    </tr>\n",
       "    <tr>\n",
       "      <th>2021-01-31</th>\n",
       "      <td>828.776842</td>\n",
       "      <td>132.415263</td>\n",
       "    </tr>\n",
       "    <tr>\n",
       "      <th>2021-02-28</th>\n",
       "      <td>794.269474</td>\n",
       "      <td>131.070000</td>\n",
       "    </tr>\n",
       "    <tr>\n",
       "      <th>2021-03-31</th>\n",
       "      <td>656.802609</td>\n",
       "      <td>121.482609</td>\n",
       "    </tr>\n",
       "    <tr>\n",
       "      <th>2021-04-30</th>\n",
       "      <td>709.618095</td>\n",
       "      <td>131.391905</td>\n",
       "    </tr>\n",
       "    <tr>\n",
       "      <th>2021-05-31</th>\n",
       "      <td>616.753000</td>\n",
       "      <td>126.550000</td>\n",
       "    </tr>\n",
       "    <tr>\n",
       "      <th>2021-06-30</th>\n",
       "      <td>626.919545</td>\n",
       "      <td>129.764091</td>\n",
       "    </tr>\n",
       "    <tr>\n",
       "      <th>2021-07-31</th>\n",
       "      <td>659.134762</td>\n",
       "      <td>144.921905</td>\n",
       "    </tr>\n",
       "    <tr>\n",
       "      <th>2021-08-31</th>\n",
       "      <td>705.243182</td>\n",
       "      <td>148.137727</td>\n",
       "    </tr>\n",
       "    <tr>\n",
       "      <th>2021-09-30</th>\n",
       "      <td>746.480833</td>\n",
       "      <td>151.404167</td>\n",
       "    </tr>\n",
       "  </tbody>\n",
       "</table>\n",
       "</div>"
      ],
      "text/plain": [
       "Symbols           TSLA        AAPL\n",
       "Date                              \n",
       "2020-01-31  105.730952   76.950476\n",
       "2020-02-29  159.489474   76.934737\n",
       "2020-03-31  111.820455   64.897727\n",
       "2020-04-30  132.719524   67.356667\n",
       "2020-05-31  159.885000   76.811500\n",
       "2020-06-30  192.708636   85.743636\n",
       "2020-07-31  292.028636   94.784545\n",
       "2020-08-31  360.060000  116.513333\n",
       "2020-09-30  413.495238  114.389524\n",
       "2020-10-31  427.209545  115.668636\n",
       "2020-11-30  465.612500  116.240500\n",
       "2020-12-31  638.818636  126.695000\n",
       "2021-01-31  828.776842  132.415263\n",
       "2021-02-28  794.269474  131.070000\n",
       "2021-03-31  656.802609  121.482609\n",
       "2021-04-30  709.618095  131.391905\n",
       "2021-05-31  616.753000  126.550000\n",
       "2021-06-30  626.919545  129.764091\n",
       "2021-07-31  659.134762  144.921905\n",
       "2021-08-31  705.243182  148.137727\n",
       "2021-09-30  746.480833  151.404167"
      ]
     },
     "execution_count": 30,
     "metadata": {},
     "output_type": "execute_result"
    }
   ],
   "source": [
    "df.resample(rule = 'M').mean()\n",
    "# M -> month\n",
    "# returns the sum of stock for each month"
   ]
  },
  {
   "cell_type": "code",
   "execution_count": 31,
   "id": "c93e7cc0-5fae-4008-b3d7-d8972705ddbc",
   "metadata": {},
   "outputs": [
    {
     "data": {
      "text/plain": [
       "<AxesSubplot:xlabel='Date'>"
      ]
     },
     "execution_count": 31,
     "metadata": {},
     "output_type": "execute_result"
    },
    {
     "data": {
      "image/png": "[encoded data removed]",
      "text/plain": [
       "<Figure size 432x288 with 1 Axes>"
      ]
     },
     "metadata": {
      "needs_background": "light"
     },
     "output_type": "display_data"
    }
   ],
   "source": [
    "df.plot()"
   ]
  },
  {
   "cell_type": "code",
   "execution_count": 32,
   "id": "b6e473ec-5311-4b3f-ad92-9e6df67ecf3f",
   "metadata": {},
   "outputs": [
    {
     "data": {
      "text/plain": [
       "<AxesSubplot:xlabel='Date'>"
      ]
     },
     "execution_count": 32,
     "metadata": {},
     "output_type": "execute_result"
    },
    {
     "data": {
      "image/png": "[encoded data removed]",
      "text/plain": [
       "<Figure size 864x432 with 1 Axes>"
      ]
     },
     "metadata": {
      "needs_background": "light"
     },
     "output_type": "display_data"
    }
   ],
   "source": [
    "# normalization\n",
    "\n",
    "df.resample(rule ='M').mean().apply(lambda y:y/y[0]).plot(figsize = (12,6))"
   ]
  },
  {
   "cell_type": "code",
   "execution_count": 33,
   "id": "ef6a8a55-c374-4bc2-8a84-debab4e99748",
   "metadata": {
    "tags": []
   },
   "outputs": [
    {
     "data": {
      "text/plain": [
       "<AxesSubplot:xlabel='Date'>"
      ]
     },
     "execution_count": 33,
     "metadata": {},
     "output_type": "execute_result"
    },
    {
     "data": {
      "image/png": "[encoded data removed]",
      "text/plain": [
       "<Figure size 864x432 with 1 Axes>"
      ]
     },
     "metadata": {
      "needs_background": "light"
     },
     "output_type": "display_data"
    }
   ],
   "source": [
    "df.resample(rule='M').apply(lambda x: x[-1]/x[0] - 1).plot(kind = 'bar', figsize = (12,6))"
   ]
  },
  {
   "cell_type": "markdown",
   "id": "8fd514a1-c83d-4a78-95cb-0b0d6ba42acd",
   "metadata": {},
   "source": [
    "### time shifting"
   ]
  },
  {
   "cell_type": "code",
   "execution_count": 35,
   "id": "ab48a811-c9f3-4f05-8d73-c9df569c2971",
   "metadata": {},
   "outputs": [
    {
     "data": {
      "text/html": [
       "<div>\n",
       "<style scoped>\n",
       "    .dataframe tbody tr th:only-of-type {\n",
       "        vertical-align: middle;\n",
       "    }\n",
       "\n",
       "    .dataframe tbody tr th {\n",
       "        vertical-align: top;\n",
       "    }\n",
       "\n",
       "    .dataframe thead th {\n",
       "        text-align: right;\n",
       "    }\n",
       "</style>\n",
       "<table border=\"1\" class=\"dataframe\">\n",
       "  <thead>\n",
       "    <tr style=\"text-align: right;\">\n",
       "      <th>Symbols</th>\n",
       "      <th>TSLA</th>\n",
       "      <th>AAPL</th>\n",
       "    </tr>\n",
       "    <tr>\n",
       "      <th>Date</th>\n",
       "      <th></th>\n",
       "      <th></th>\n",
       "    </tr>\n",
       "  </thead>\n",
       "  <tbody>\n",
       "    <tr>\n",
       "      <th>2020-01-02</th>\n",
       "      <td>86.05</td>\n",
       "      <td>74.10</td>\n",
       "    </tr>\n",
       "    <tr>\n",
       "      <th>2020-01-03</th>\n",
       "      <td>88.60</td>\n",
       "      <td>73.38</td>\n",
       "    </tr>\n",
       "    <tr>\n",
       "      <th>2020-01-06</th>\n",
       "      <td>90.31</td>\n",
       "      <td>73.96</td>\n",
       "    </tr>\n",
       "    <tr>\n",
       "      <th>2020-01-07</th>\n",
       "      <td>93.81</td>\n",
       "      <td>73.61</td>\n",
       "    </tr>\n",
       "    <tr>\n",
       "      <th>2020-01-08</th>\n",
       "      <td>98.43</td>\n",
       "      <td>74.80</td>\n",
       "    </tr>\n",
       "    <tr>\n",
       "      <th>...</th>\n",
       "      <td>...</td>\n",
       "      <td>...</td>\n",
       "    </tr>\n",
       "    <tr>\n",
       "      <th>2021-09-13</th>\n",
       "      <td>743.00</td>\n",
       "      <td>149.55</td>\n",
       "    </tr>\n",
       "    <tr>\n",
       "      <th>2021-09-14</th>\n",
       "      <td>744.49</td>\n",
       "      <td>148.12</td>\n",
       "    </tr>\n",
       "    <tr>\n",
       "      <th>2021-09-15</th>\n",
       "      <td>755.83</td>\n",
       "      <td>149.03</td>\n",
       "    </tr>\n",
       "    <tr>\n",
       "      <th>2021-09-16</th>\n",
       "      <td>756.99</td>\n",
       "      <td>148.79</td>\n",
       "    </tr>\n",
       "    <tr>\n",
       "      <th>2021-09-17</th>\n",
       "      <td>759.49</td>\n",
       "      <td>146.06</td>\n",
       "    </tr>\n",
       "  </tbody>\n",
       "</table>\n",
       "<p>432 rows × 2 columns</p>\n",
       "</div>"
      ],
      "text/plain": [
       "Symbols       TSLA    AAPL\n",
       "Date                      \n",
       "2020-01-02   86.05   74.10\n",
       "2020-01-03   88.60   73.38\n",
       "2020-01-06   90.31   73.96\n",
       "2020-01-07   93.81   73.61\n",
       "2020-01-08   98.43   74.80\n",
       "...            ...     ...\n",
       "2021-09-13  743.00  149.55\n",
       "2021-09-14  744.49  148.12\n",
       "2021-09-15  755.83  149.03\n",
       "2021-09-16  756.99  148.79\n",
       "2021-09-17  759.49  146.06\n",
       "\n",
       "[432 rows x 2 columns]"
      ]
     },
     "execution_count": 35,
     "metadata": {},
     "output_type": "execute_result"
    }
   ],
   "source": [
    "df_apple = pd.DataFrame(df['AAPL'])\n",
    "df"
   ]
  },
  {
   "cell_type": "code",
   "execution_count": 39,
   "id": "3e4c91b8-b968-4018-ac82-e9bcd69a7729",
   "metadata": {},
   "outputs": [
    {
     "data": {
      "text/html": [
       "<div>\n",
       "<style scoped>\n",
       "    .dataframe tbody tr th:only-of-type {\n",
       "        vertical-align: middle;\n",
       "    }\n",
       "\n",
       "    .dataframe tbody tr th {\n",
       "        vertical-align: top;\n",
       "    }\n",
       "\n",
       "    .dataframe thead th {\n",
       "        text-align: right;\n",
       "    }\n",
       "</style>\n",
       "<table border=\"1\" class=\"dataframe\">\n",
       "  <thead>\n",
       "    <tr style=\"text-align: right;\">\n",
       "      <th></th>\n",
       "      <th>AAPL</th>\n",
       "      <th>lag(t-1)</th>\n",
       "      <th>lead(t+1)</th>\n",
       "    </tr>\n",
       "    <tr>\n",
       "      <th>Date</th>\n",
       "      <th></th>\n",
       "      <th></th>\n",
       "      <th></th>\n",
       "    </tr>\n",
       "  </thead>\n",
       "  <tbody>\n",
       "    <tr>\n",
       "      <th>2021-09-03</th>\n",
       "      <td>154.30</td>\n",
       "      <td>153.65</td>\n",
       "      <td>156.69</td>\n",
       "    </tr>\n",
       "    <tr>\n",
       "      <th>2021-09-07</th>\n",
       "      <td>156.69</td>\n",
       "      <td>154.30</td>\n",
       "      <td>155.11</td>\n",
       "    </tr>\n",
       "    <tr>\n",
       "      <th>2021-09-08</th>\n",
       "      <td>155.11</td>\n",
       "      <td>156.69</td>\n",
       "      <td>154.07</td>\n",
       "    </tr>\n",
       "    <tr>\n",
       "      <th>2021-09-09</th>\n",
       "      <td>154.07</td>\n",
       "      <td>155.11</td>\n",
       "      <td>148.97</td>\n",
       "    </tr>\n",
       "    <tr>\n",
       "      <th>2021-09-10</th>\n",
       "      <td>148.97</td>\n",
       "      <td>154.07</td>\n",
       "      <td>149.55</td>\n",
       "    </tr>\n",
       "    <tr>\n",
       "      <th>2021-09-13</th>\n",
       "      <td>149.55</td>\n",
       "      <td>148.97</td>\n",
       "      <td>148.12</td>\n",
       "    </tr>\n",
       "    <tr>\n",
       "      <th>2021-09-14</th>\n",
       "      <td>148.12</td>\n",
       "      <td>149.55</td>\n",
       "      <td>149.03</td>\n",
       "    </tr>\n",
       "    <tr>\n",
       "      <th>2021-09-15</th>\n",
       "      <td>149.03</td>\n",
       "      <td>148.12</td>\n",
       "      <td>148.79</td>\n",
       "    </tr>\n",
       "    <tr>\n",
       "      <th>2021-09-16</th>\n",
       "      <td>148.79</td>\n",
       "      <td>149.03</td>\n",
       "      <td>146.06</td>\n",
       "    </tr>\n",
       "    <tr>\n",
       "      <th>2021-09-17</th>\n",
       "      <td>146.06</td>\n",
       "      <td>148.79</td>\n",
       "      <td>NaN</td>\n",
       "    </tr>\n",
       "  </tbody>\n",
       "</table>\n",
       "</div>"
      ],
      "text/plain": [
       "              AAPL  lag(t-1)  lead(t+1)\n",
       "Date                                   \n",
       "2021-09-03  154.30    153.65     156.69\n",
       "2021-09-07  156.69    154.30     155.11\n",
       "2021-09-08  155.11    156.69     154.07\n",
       "2021-09-09  154.07    155.11     148.97\n",
       "2021-09-10  148.97    154.07     149.55\n",
       "2021-09-13  149.55    148.97     148.12\n",
       "2021-09-14  148.12    149.55     149.03\n",
       "2021-09-15  149.03    148.12     148.79\n",
       "2021-09-16  148.79    149.03     146.06\n",
       "2021-09-17  146.06    148.79        NaN"
      ]
     },
     "execution_count": 39,
     "metadata": {},
     "output_type": "execute_result"
    }
   ],
   "source": [
    "df_apple['lag(t-1)'] = df_apple['AAPL'].shift(1)\n",
    "df_apple['lead(t+1)'] = df_apple['AAPL'].shift(-1)\n",
    "\n",
    "\n",
    "\n",
    "'lag -> gives price of yesterday'\n",
    "'lead -> gives price of tomorrow'\n",
    "df_apple.tail(10)"
   ]
  },
  {
   "cell_type": "markdown",
   "id": "133fb47e-8e1b-42b1-adb9-6aad5df9cf75",
   "metadata": {},
   "source": [
    "### Rolling windows and expanding windows"
   ]
  },
  {
   "cell_type": "code",
   "execution_count": 40,
   "id": "18ae9de6-84d4-4de5-b918-8281874721fe",
   "metadata": {},
   "outputs": [
    {
     "data": {
      "text/html": [
       "<div>\n",
       "<style scoped>\n",
       "    .dataframe tbody tr th:only-of-type {\n",
       "        vertical-align: middle;\n",
       "    }\n",
       "\n",
       "    .dataframe tbody tr th {\n",
       "        vertical-align: top;\n",
       "    }\n",
       "\n",
       "    .dataframe thead th {\n",
       "        text-align: right;\n",
       "    }\n",
       "</style>\n",
       "<table border=\"1\" class=\"dataframe\">\n",
       "  <thead>\n",
       "    <tr style=\"text-align: right;\">\n",
       "      <th>Symbols</th>\n",
       "      <th>TSLA</th>\n",
       "      <th>AAPL</th>\n",
       "    </tr>\n",
       "    <tr>\n",
       "      <th>Date</th>\n",
       "      <th></th>\n",
       "      <th></th>\n",
       "    </tr>\n",
       "  </thead>\n",
       "  <tbody>\n",
       "    <tr>\n",
       "      <th>2020-01-02</th>\n",
       "      <td>86.05</td>\n",
       "      <td>74.10</td>\n",
       "    </tr>\n",
       "    <tr>\n",
       "      <th>2020-01-03</th>\n",
       "      <td>88.60</td>\n",
       "      <td>73.38</td>\n",
       "    </tr>\n",
       "    <tr>\n",
       "      <th>2020-01-06</th>\n",
       "      <td>90.31</td>\n",
       "      <td>73.96</td>\n",
       "    </tr>\n",
       "    <tr>\n",
       "      <th>2020-01-07</th>\n",
       "      <td>93.81</td>\n",
       "      <td>73.61</td>\n",
       "    </tr>\n",
       "    <tr>\n",
       "      <th>2020-01-08</th>\n",
       "      <td>98.43</td>\n",
       "      <td>74.80</td>\n",
       "    </tr>\n",
       "  </tbody>\n",
       "</table>\n",
       "</div>"
      ],
      "text/plain": [
       "Symbols      TSLA   AAPL\n",
       "Date                    \n",
       "2020-01-02  86.05  74.10\n",
       "2020-01-03  88.60  73.38\n",
       "2020-01-06  90.31  73.96\n",
       "2020-01-07  93.81  73.61\n",
       "2020-01-08  98.43  74.80"
      ]
     },
     "execution_count": 40,
     "metadata": {},
     "output_type": "execute_result"
    }
   ],
   "source": [
    "df.head()"
   ]
  },
  {
   "cell_type": "markdown",
   "id": "ab67de47-ffd2-4876-9641-564605fd27c3",
   "metadata": {},
   "source": [
    "rolling takes the first number of rows to perfom operations on them"
   ]
  },
  {
   "cell_type": "code",
   "execution_count": 41,
   "id": "dca6b03e-7948-49f6-9c37-eee2d20ba3f7",
   "metadata": {},
   "outputs": [
    {
     "data": {
      "text/html": [
       "<div>\n",
       "<style scoped>\n",
       "    .dataframe tbody tr th:only-of-type {\n",
       "        vertical-align: middle;\n",
       "    }\n",
       "\n",
       "    .dataframe tbody tr th {\n",
       "        vertical-align: top;\n",
       "    }\n",
       "\n",
       "    .dataframe thead th {\n",
       "        text-align: right;\n",
       "    }\n",
       "</style>\n",
       "<table border=\"1\" class=\"dataframe\">\n",
       "  <thead>\n",
       "    <tr style=\"text-align: right;\">\n",
       "      <th>Symbols</th>\n",
       "      <th>TSLA</th>\n",
       "      <th>AAPL</th>\n",
       "    </tr>\n",
       "    <tr>\n",
       "      <th>Date</th>\n",
       "      <th></th>\n",
       "      <th></th>\n",
       "    </tr>\n",
       "  </thead>\n",
       "  <tbody>\n",
       "    <tr>\n",
       "      <th>2020-01-02</th>\n",
       "      <td>NaN</td>\n",
       "      <td>NaN</td>\n",
       "    </tr>\n",
       "    <tr>\n",
       "      <th>2020-01-03</th>\n",
       "      <td>87.325</td>\n",
       "      <td>73.740</td>\n",
       "    </tr>\n",
       "    <tr>\n",
       "      <th>2020-01-06</th>\n",
       "      <td>89.455</td>\n",
       "      <td>73.670</td>\n",
       "    </tr>\n",
       "    <tr>\n",
       "      <th>2020-01-07</th>\n",
       "      <td>92.060</td>\n",
       "      <td>73.785</td>\n",
       "    </tr>\n",
       "    <tr>\n",
       "      <th>2020-01-08</th>\n",
       "      <td>96.120</td>\n",
       "      <td>74.205</td>\n",
       "    </tr>\n",
       "  </tbody>\n",
       "</table>\n",
       "</div>"
      ],
      "text/plain": [
       "Symbols       TSLA    AAPL\n",
       "Date                      \n",
       "2020-01-02     NaN     NaN\n",
       "2020-01-03  87.325  73.740\n",
       "2020-01-06  89.455  73.670\n",
       "2020-01-07  92.060  73.785\n",
       "2020-01-08  96.120  74.205"
      ]
     },
     "execution_count": 41,
     "metadata": {},
     "output_type": "execute_result"
    }
   ],
   "source": [
    "df.rolling(window = 2).mean().head()"
   ]
  },
  {
   "cell_type": "code",
   "execution_count": 42,
   "id": "b7df2c66-6469-4053-9f8a-5cb5bc04ee48",
   "metadata": {},
   "outputs": [
    {
     "data": {
      "text/html": [
       "<div>\n",
       "<style scoped>\n",
       "    .dataframe tbody tr th:only-of-type {\n",
       "        vertical-align: middle;\n",
       "    }\n",
       "\n",
       "    .dataframe tbody tr th {\n",
       "        vertical-align: top;\n",
       "    }\n",
       "\n",
       "    .dataframe thead th {\n",
       "        text-align: right;\n",
       "    }\n",
       "</style>\n",
       "<table border=\"1\" class=\"dataframe\">\n",
       "  <thead>\n",
       "    <tr style=\"text-align: right;\">\n",
       "      <th>Symbols</th>\n",
       "      <th>TSLA</th>\n",
       "      <th>AAPL</th>\n",
       "    </tr>\n",
       "    <tr>\n",
       "      <th>Date</th>\n",
       "      <th></th>\n",
       "      <th></th>\n",
       "    </tr>\n",
       "  </thead>\n",
       "  <tbody>\n",
       "    <tr>\n",
       "      <th>2020-01-02</th>\n",
       "      <td>NaN</td>\n",
       "      <td>NaN</td>\n",
       "    </tr>\n",
       "    <tr>\n",
       "      <th>2020-01-03</th>\n",
       "      <td>NaN</td>\n",
       "      <td>NaN</td>\n",
       "    </tr>\n",
       "    <tr>\n",
       "      <th>2020-01-06</th>\n",
       "      <td>NaN</td>\n",
       "      <td>NaN</td>\n",
       "    </tr>\n",
       "    <tr>\n",
       "      <th>2020-01-07</th>\n",
       "      <td>NaN</td>\n",
       "      <td>NaN</td>\n",
       "    </tr>\n",
       "    <tr>\n",
       "      <th>2020-01-08</th>\n",
       "      <td>91.440</td>\n",
       "      <td>73.970</td>\n",
       "    </tr>\n",
       "    <tr>\n",
       "      <th>2020-01-09</th>\n",
       "      <td>93.484</td>\n",
       "      <td>74.428</td>\n",
       "    </tr>\n",
       "    <tr>\n",
       "      <th>2020-01-10</th>\n",
       "      <td>94.890</td>\n",
       "      <td>75.064</td>\n",
       "    </tr>\n",
       "    <tr>\n",
       "      <th>2020-01-13</th>\n",
       "      <td>97.822</td>\n",
       "      <td>75.910</td>\n",
       "    </tr>\n",
       "    <tr>\n",
       "      <th>2020-01-14</th>\n",
       "      <td>100.576</td>\n",
       "      <td>76.616</td>\n",
       "    </tr>\n",
       "    <tr>\n",
       "      <th>2020-01-15</th>\n",
       "      <td>101.630</td>\n",
       "      <td>77.018</td>\n",
       "    </tr>\n",
       "  </tbody>\n",
       "</table>\n",
       "</div>"
      ],
      "text/plain": [
       "Symbols        TSLA    AAPL\n",
       "Date                       \n",
       "2020-01-02      NaN     NaN\n",
       "2020-01-03      NaN     NaN\n",
       "2020-01-06      NaN     NaN\n",
       "2020-01-07      NaN     NaN\n",
       "2020-01-08   91.440  73.970\n",
       "2020-01-09   93.484  74.428\n",
       "2020-01-10   94.890  75.064\n",
       "2020-01-13   97.822  75.910\n",
       "2020-01-14  100.576  76.616\n",
       "2020-01-15  101.630  77.018"
      ]
     },
     "execution_count": 42,
     "metadata": {},
     "output_type": "execute_result"
    }
   ],
   "source": [
    "df.rolling(window = 5).mean().head(10)"
   ]
  },
  {
   "cell_type": "code",
   "execution_count": 65,
   "id": "52a0d694-66f8-4bf6-8c74-7043943c7c0f",
   "metadata": {},
   "outputs": [
    {
     "data": {
      "text/html": [
       "<div>\n",
       "<style scoped>\n",
       "    .dataframe tbody tr th:only-of-type {\n",
       "        vertical-align: middle;\n",
       "    }\n",
       "\n",
       "    .dataframe tbody tr th {\n",
       "        vertical-align: top;\n",
       "    }\n",
       "\n",
       "    .dataframe thead th {\n",
       "        text-align: right;\n",
       "    }\n",
       "</style>\n",
       "<table border=\"1\" class=\"dataframe\">\n",
       "  <thead>\n",
       "    <tr style=\"text-align: right;\">\n",
       "      <th>Symbols</th>\n",
       "      <th>TSLA</th>\n",
       "      <th>AAPL</th>\n",
       "      <th>TSLA_MA(5)</th>\n",
       "      <th>expanding average</th>\n",
       "    </tr>\n",
       "    <tr>\n",
       "      <th>Date</th>\n",
       "      <th></th>\n",
       "      <th></th>\n",
       "      <th></th>\n",
       "      <th></th>\n",
       "    </tr>\n",
       "  </thead>\n",
       "  <tbody>\n",
       "    <tr>\n",
       "      <th>2021-09-03</th>\n",
       "      <td>733.57</td>\n",
       "      <td>154.30</td>\n",
       "      <td>700.977667</td>\n",
       "      <td>110.264279</td>\n",
       "    </tr>\n",
       "    <tr>\n",
       "      <th>2021-09-07</th>\n",
       "      <td>752.92</td>\n",
       "      <td>156.69</td>\n",
       "      <td>704.154333</td>\n",
       "      <td>110.373774</td>\n",
       "    </tr>\n",
       "    <tr>\n",
       "      <th>2021-09-08</th>\n",
       "      <td>753.87</td>\n",
       "      <td>155.11</td>\n",
       "      <td>707.790667</td>\n",
       "      <td>110.479035</td>\n",
       "    </tr>\n",
       "    <tr>\n",
       "      <th>2021-09-09</th>\n",
       "      <td>754.86</td>\n",
       "      <td>154.07</td>\n",
       "      <td>711.386667</td>\n",
       "      <td>110.581362</td>\n",
       "    </tr>\n",
       "    <tr>\n",
       "      <th>2021-09-10</th>\n",
       "      <td>736.27</td>\n",
       "      <td>148.97</td>\n",
       "      <td>713.350667</td>\n",
       "      <td>110.671265</td>\n",
       "    </tr>\n",
       "    <tr>\n",
       "      <th>2021-09-13</th>\n",
       "      <td>743.00</td>\n",
       "      <td>149.55</td>\n",
       "      <td>715.210667</td>\n",
       "      <td>110.762103</td>\n",
       "    </tr>\n",
       "    <tr>\n",
       "      <th>2021-09-14</th>\n",
       "      <td>744.49</td>\n",
       "      <td>148.12</td>\n",
       "      <td>716.371333</td>\n",
       "      <td>110.849184</td>\n",
       "    </tr>\n",
       "    <tr>\n",
       "      <th>2021-09-15</th>\n",
       "      <td>755.83</td>\n",
       "      <td>149.03</td>\n",
       "      <td>717.907667</td>\n",
       "      <td>110.937977</td>\n",
       "    </tr>\n",
       "    <tr>\n",
       "      <th>2021-09-16</th>\n",
       "      <td>756.99</td>\n",
       "      <td>148.79</td>\n",
       "      <td>719.443333</td>\n",
       "      <td>111.025800</td>\n",
       "    </tr>\n",
       "    <tr>\n",
       "      <th>2021-09-17</th>\n",
       "      <td>759.49</td>\n",
       "      <td>146.06</td>\n",
       "      <td>720.938667</td>\n",
       "      <td>111.106898</td>\n",
       "    </tr>\n",
       "  </tbody>\n",
       "</table>\n",
       "</div>"
      ],
      "text/plain": [
       "Symbols       TSLA    AAPL  TSLA_MA(5)  expanding average\n",
       "Date                                                     \n",
       "2021-09-03  733.57  154.30  700.977667         110.264279\n",
       "2021-09-07  752.92  156.69  704.154333         110.373774\n",
       "2021-09-08  753.87  155.11  707.790667         110.479035\n",
       "2021-09-09  754.86  154.07  711.386667         110.581362\n",
       "2021-09-10  736.27  148.97  713.350667         110.671265\n",
       "2021-09-13  743.00  149.55  715.210667         110.762103\n",
       "2021-09-14  744.49  148.12  716.371333         110.849184\n",
       "2021-09-15  755.83  149.03  717.907667         110.937977\n",
       "2021-09-16  756.99  148.79  719.443333         111.025800\n",
       "2021-09-17  759.49  146.06  720.938667         111.106898"
      ]
     },
     "execution_count": 65,
     "metadata": {},
     "output_type": "execute_result"
    }
   ],
   "source": [
    "df['TSLA_MA(5)'] = df['TSLA'].rolling(30).mean()\n",
    "df.tail(10)"
   ]
  },
  {
   "cell_type": "code",
   "execution_count": 66,
   "id": "79f52d7f-4f1c-4345-a1c2-632ea4e2df5b",
   "metadata": {},
   "outputs": [
    {
     "data": {
      "image/png": "[encoded data removed]",
      "text/plain": [
       "<Figure size 1152x432 with 1 Axes>"
      ]
     },
     "metadata": {
      "needs_background": "light"
     },
     "output_type": "display_data"
    }
   ],
   "source": [
    "df[['TSLA','TSLA_MA(5)']].plot(figsize = (16,6))\n",
    "plt.show()"
   ]
  },
  {
   "cell_type": "markdown",
   "id": "bedf428c-8d37-4bb7-ba57-3f37346159e2",
   "metadata": {},
   "source": [
    "### Expanding windows\n",
    "Expanding is similar to cummulative frequency but you can decide to use sum, std, etc "
   ]
  },
  {
   "cell_type": "code",
   "execution_count": 46,
   "id": "8bac0267-75ec-4001-90dd-b9dce4ea81a8",
   "metadata": {},
   "outputs": [
    {
     "data": {
      "text/plain": [
       "Date\n",
       "2020-01-02    74.10\n",
       "2020-01-03    73.38\n",
       "2020-01-06    73.96\n",
       "2020-01-07    73.61\n",
       "2020-01-08    74.80\n",
       "Name: AAPL, dtype: float64"
      ]
     },
     "execution_count": 46,
     "metadata": {},
     "output_type": "execute_result"
    }
   ],
   "source": [
    "df['AAPL'].head()"
   ]
  },
  {
   "cell_type": "code",
   "execution_count": 47,
   "id": "af65007c-b544-4d9f-80d7-a6d95af1d300",
   "metadata": {},
   "outputs": [
    {
     "data": {
      "text/plain": [
       "Date\n",
       "2020-01-02     74.10\n",
       "2020-01-03    147.48\n",
       "2020-01-06    221.44\n",
       "2020-01-07    295.05\n",
       "2020-01-08    369.85\n",
       "Name: AAPL, dtype: float64"
      ]
     },
     "execution_count": 47,
     "metadata": {},
     "output_type": "execute_result"
    }
   ],
   "source": [
    "df['AAPL'].expanding().sum().head()"
   ]
  },
  {
   "cell_type": "code",
   "execution_count": 49,
   "id": "3f86249d-04d8-4419-a90c-4d52d255b50d",
   "metadata": {},
   "outputs": [
    {
     "data": {
      "text/plain": [
       "<AxesSubplot:xlabel='Date'>"
      ]
     },
     "execution_count": 49,
     "metadata": {},
     "output_type": "execute_result"
    },
    {
     "data": {
      "image/png": "[encoded data removed]",
      "text/plain": [
       "<Figure size 1152x432 with 1 Axes>"
      ]
     },
     "metadata": {
      "needs_background": "light"
     },
     "output_type": "display_data"
    }
   ],
   "source": [
    "df['expanding average']=df['AAPL'].expanding().mean()\n",
    "df[['expanding average', 'AAPL']].plot(figsize =(16,6))"
   ]
  },
  {
   "cell_type": "code",
   "execution_count": 64,
   "id": "f1eabbe6-808d-4acd-866d-b1ba2e846644",
   "metadata": {},
   "outputs": [
    {
     "name": "stdout",
     "output_type": "stream",
     "text": [
      "   0    g\n",
      "0  1  NaN\n",
      "1  2  1.5\n",
      "2  3  2.5\n",
      "3  4  3.5\n"
     ]
    }
   ],
   "source": [
    "s = pd.DataFrame([1,2,3,4])\n",
    "s['g'] = s.rolling(2).mean()\n",
    "print(s)"
   ]
  }
 ],
 "metadata": {
  "kernelspec": {
   "display_name": "Python 3 (ipykernel)",
   "language": "python",
   "name": "python3"
  },
  "language_info": {
   "codemirror_mode": {
    "name": "ipython",
    "version": 3
   },
   "file_extension": ".py",
   "mimetype": "text/x-python",
   "name": "python",
   "nbconvert_exporter": "python",
   "pygments_lexer": "ipython3",
   "version": "3.8.2"
  }
 },
 "nbformat": 4,
 "nbformat_minor": 5
}
