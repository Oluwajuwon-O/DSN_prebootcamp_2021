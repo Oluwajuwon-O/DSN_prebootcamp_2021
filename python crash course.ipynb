{
 "cells": [
  {
   "cell_type": "code",
   "execution_count": 1,
   "id": "76cf5f31-d500-4f5a-b5ce-a9cb1238a75e",
   "metadata": {},
   "outputs": [],
   "source": [
    "my_string = 'Hello world, I am learning #ML'"
   ]
  },
  {
   "cell_type": "code",
   "execution_count": null,
   "id": "a36f097c-7140-4b48-9c8f-a13cee771f9e",
   "metadata": {},
   "outputs": [],
   "source": [
    "print (1+2)"
   ]
  },
  {
   "cell_type": "code",
   "execution_count": 14,
   "id": "8100d000-f5a4-436b-8d0b-37399052be1c",
   "metadata": {
    "tags": []
   },
   "outputs": [
    {
     "name": "stdout",
     "output_type": "stream",
     "text": [
      "HELLO WORLD, I AM LEARNING #ML\n"
     ]
    }
   ],
   "source": [
    "print(my_string.upper())"
   ]
  },
  {
   "cell_type": "markdown",
   "id": "9edc16ea-7017-4026-bfe8-de40845bd711",
   "metadata": {},
   "source": [
    ".pop removes from list by index\n",
    ".remove removes from list by passing the string\n",
    ".clear removes all objects\n",
    "del string [index] removes by index"
   ]
  },
  {
   "cell_type": "markdown",
   "id": "36c1c80f-7b53-49f1-aa6d-e646a9844b3e",
   "metadata": {},
   "source": [
    "sets use curly braces but not semi-colons. This is the difference from dictionary"
   ]
  },
  {
   "cell_type": "markdown",
   "id": "1336a504-2725-451e-95f4-5db93d021e0a",
   "metadata": {},
   "source": [
    "while loop"
   ]
  },
  {
   "cell_type": "code",
   "execution_count": 15,
   "id": "4c6f3a96-17bd-4970-ad40-2b5c45f2bad0",
   "metadata": {},
   "outputs": [
    {
     "name": "stdout",
     "output_type": "stream",
     "text": [
      "count is:1\n",
      "count is:2\n",
      "count is:3\n",
      "count is:4\n"
     ]
    }
   ],
   "source": [
    "# first initialise\n",
    "count = 1\n",
    "\n",
    "# then the condition\n",
    "while count <= 4:\n",
    "    # the implication\n",
    "    print('count is:' f'{count}')\n",
    "    \n",
    "    #lastly the step/proceedure\n",
    "    count += 1"
   ]
  },
  {
   "cell_type": "code",
   "execution_count": 16,
   "id": "df979c85-6684-4660-a8b9-7d87adc01b2f",
   "metadata": {},
   "outputs": [
    {
     "name": "stdout",
     "output_type": "stream",
     "text": [
      "0\n",
      "1\n",
      "2\n",
      "3\n",
      "4\n"
     ]
    }
   ],
   "source": [
    "item = 0\n",
    "while item < 5:\n",
    "    print (item)\n",
    "    item += 1"
   ]
  },
  {
   "cell_type": "code",
   "execution_count": 17,
   "id": "f9a8f389-0eb9-4e2e-8410-3c8b6c8734fe",
   "metadata": {},
   "outputs": [
    {
     "name": "stdout",
     "output_type": "stream",
     "text": [
      "1\n",
      "2\n",
      "3\n",
      "4\n",
      "5\n"
     ]
    }
   ],
   "source": [
    "item = 0\n",
    "while item < 5:\n",
    "    item = item + 1\n",
    "    print (item)"
   ]
  },
  {
   "cell_type": "code",
   "execution_count": 3,
   "id": "6d357ae6-00c8-49a0-b7c2-838b5d4fb981",
   "metadata": {},
   "outputs": [],
   "source": [
    "import numpy as np"
   ]
  },
  {
   "cell_type": "code",
   "execution_count": 22,
   "id": "b361b3f5-6dd7-4ee0-8d99-81b6e68e1043",
   "metadata": {},
   "outputs": [
    {
     "data": {
      "text/plain": [
       "array([ 0.,  5., 10., 15., 20.])"
      ]
     },
     "execution_count": 22,
     "metadata": {},
     "output_type": "execute_result"
    }
   ],
   "source": [
    "np.linspace(0,20,5)"
   ]
  },
  {
   "cell_type": "code",
   "execution_count": 23,
   "id": "28026808-8ecf-4f5f-8610-c493cbb4679d",
   "metadata": {
    "collapsed": true,
    "jupyter": {
     "outputs_hidden": true
    },
    "tags": []
   },
   "outputs": [
    {
     "data": {
      "text/plain": [
       "array([[1., 0., 0., 0., 0.],\n",
       "       [0., 1., 0., 0., 0.],\n",
       "       [0., 0., 1., 0., 0.],\n",
       "       [0., 0., 0., 1., 0.],\n",
       "       [0., 0., 0., 0., 1.]])"
      ]
     },
     "execution_count": 23,
     "metadata": {},
     "output_type": "execute_result"
    }
   ],
   "source": [
    "# identity matrix\n",
    "np.eye (5)"
   ]
  },
  {
   "cell_type": "markdown",
   "id": "228e0377-b801-4cb6-a1b4-514bf04b76cb",
   "metadata": {},
   "source": [
    "np.random.randn(x) #gives x random numbers from uniform distribution i.e. numbers between 0 & 1"
   ]
  },
  {
   "cell_type": "code",
   "execution_count": 24,
   "id": "d0be5c99-ee21-4b72-8c7c-8dc903d4a785",
   "metadata": {
    "tags": []
   },
   "outputs": [
    {
     "data": {
      "text/plain": [
       "array([0.92417445, 0.29096539, 0.9061451 , 0.76480346, 0.52603711,\n",
       "       0.3398373 , 0.56042708, 0.21759763, 0.46566488, 0.86793679])"
      ]
     },
     "execution_count": 24,
     "metadata": {},
     "output_type": "execute_result"
    }
   ],
   "source": [
    "np.random.rand(10)"
   ]
  },
  {
   "cell_type": "code",
   "execution_count": 25,
   "id": "5621622c-bbb6-46f1-9b74-445fbfd340cb",
   "metadata": {
    "collapsed": true,
    "jupyter": {
     "outputs_hidden": true
    },
    "tags": []
   },
   "outputs": [
    {
     "data": {
      "text/plain": [
       "array([[[0.63716265, 0.46688506, 0.677441  , 0.10789721, 0.2999901 ],\n",
       "        [0.92228592, 0.87284562, 0.0523386 , 0.36777582, 0.56013029],\n",
       "        [0.59013262, 0.44119086, 0.01628135, 0.52255839, 0.41122206],\n",
       "        [0.18299441, 0.08816625, 0.29283714, 0.24131996, 0.09212058],\n",
       "        [0.50929168, 0.32020204, 0.21403557, 0.24577483, 0.26989065]],\n",
       "\n",
       "       [[0.29336424, 0.17948419, 0.72931058, 0.3118198 , 0.52885237],\n",
       "        [0.73870254, 0.99359716, 0.39097154, 0.88054721, 0.17438559],\n",
       "        [0.34899164, 0.10806978, 0.23889979, 0.84869978, 0.7448228 ],\n",
       "        [0.05674625, 0.74324795, 0.91478902, 0.53781585, 0.24931994],\n",
       "        [0.83983996, 0.31439865, 0.33729231, 0.65829813, 0.19406899]],\n",
       "\n",
       "       [[0.46307302, 0.42155435, 0.79035048, 0.93940766, 0.77516674],\n",
       "        [0.04775369, 0.6292209 , 0.40805578, 0.23661663, 0.47642147],\n",
       "        [0.63328528, 0.41430353, 0.84025452, 0.59366565, 0.85148791],\n",
       "        [0.57890791, 0.14213539, 0.67177223, 0.17791648, 0.84081164],\n",
       "        [0.79055864, 0.85871374, 0.86493687, 0.38385676, 0.59601776]],\n",
       "\n",
       "       [[0.74333409, 0.72538298, 0.60238913, 0.8164828 , 0.06085499],\n",
       "        [0.95584676, 0.04081459, 0.50004402, 0.43429792, 0.42574354],\n",
       "        [0.91435137, 0.02561137, 0.93219186, 0.56774388, 0.90576999],\n",
       "        [0.234189  , 0.80150202, 0.47807386, 0.08743974, 0.54503551],\n",
       "        [0.65028552, 0.61529432, 0.9204341 , 0.1590024 , 0.89915142]],\n",
       "\n",
       "       [[0.94639408, 0.90442949, 0.99614484, 0.17312263, 0.38561925],\n",
       "        [0.22473889, 0.21077081, 0.46284437, 0.5246555 , 0.87666145],\n",
       "        [0.55999087, 0.25303163, 0.23518824, 0.77922162, 0.10492935],\n",
       "        [0.10811962, 0.94635731, 0.36594496, 0.64671824, 0.14750466],\n",
       "        [0.73124624, 0.08506274, 0.28636244, 0.94273702, 0.92700347]],\n",
       "\n",
       "       [[0.16371175, 0.1560083 , 0.60472323, 0.88063551, 0.67336682],\n",
       "        [0.97434591, 0.40667192, 0.66752397, 0.42994459, 0.44803906],\n",
       "        [0.73118676, 0.4400749 , 0.62196845, 0.82824608, 0.86551719],\n",
       "        [0.43980937, 0.70715931, 0.16420306, 0.81183077, 0.39565587],\n",
       "        [0.7391893 , 0.43139002, 0.18369354, 0.7130449 , 0.29631725]],\n",
       "\n",
       "       [[0.35773163, 0.74213438, 0.1014613 , 0.0801058 , 0.20648576],\n",
       "        [0.48683573, 0.5453098 , 0.01028565, 0.86412436, 0.2643064 ],\n",
       "        [0.70095792, 0.63021963, 0.62666892, 0.60519932, 0.0053924 ],\n",
       "        [0.06738282, 0.59458786, 0.63738638, 0.51044224, 0.58395252],\n",
       "        [0.59903977, 0.4317248 , 0.21405012, 0.93890386, 0.47212084]],\n",
       "\n",
       "       [[0.5509722 , 0.62078311, 0.12613426, 0.66887276, 0.19384511],\n",
       "        [0.74119679, 0.13072582, 0.51822081, 0.60354328, 0.14936912],\n",
       "        [0.74211053, 0.66181884, 0.70598833, 0.69336298, 0.47535631],\n",
       "        [0.49589226, 0.80821444, 0.19849388, 0.68278572, 0.0185332 ],\n",
       "        [0.30587108, 0.05753353, 0.64158341, 0.98382491, 0.4496371 ]],\n",
       "\n",
       "       [[0.40798329, 0.9171194 , 0.68478603, 0.89000661, 0.35749019],\n",
       "        [0.99171185, 0.74000734, 0.9746897 , 0.02907351, 0.49096811],\n",
       "        [0.42335281, 0.52126401, 0.22934983, 0.03435082, 0.06555585],\n",
       "        [0.716928  , 0.88015273, 0.88544741, 0.64485232, 0.24679549],\n",
       "        [0.72765524, 0.43759924, 0.14210722, 0.48778126, 0.10034042]],\n",
       "\n",
       "       [[0.54905774, 0.9398196 , 0.74299667, 0.3767546 , 0.9842309 ],\n",
       "        [0.61514651, 0.91182735, 0.67954931, 0.992305  , 0.03800204],\n",
       "        [0.20403661, 0.56784611, 0.35985574, 0.53843977, 0.59561013],\n",
       "        [0.56434959, 0.23620976, 0.2569453 , 0.8855936 , 0.46099911],\n",
       "        [0.90830466, 0.63702713, 0.30685977, 0.03571907, 0.53665062]]])"
      ]
     },
     "execution_count": 25,
     "metadata": {},
     "output_type": "execute_result"
    }
   ],
   "source": [
    "np.random.rand(10,5,5)"
   ]
  },
  {
   "cell_type": "code",
   "execution_count": 43,
   "id": "f4cb7c04-0222-40d3-8250-83a6e46815fb",
   "metadata": {},
   "outputs": [
    {
     "data": {
      "text/plain": [
       "1"
      ]
     },
     "execution_count": 43,
     "metadata": {},
     "output_type": "execute_result"
    }
   ],
   "source": [
    "np.random.randint(1,5)"
   ]
  },
  {
   "cell_type": "code",
   "execution_count": 99,
   "id": "369ef842-015c-4008-a674-949109d17cc8",
   "metadata": {},
   "outputs": [
    {
     "data": {
      "text/plain": [
       "array([1, 1, 2, 3, 3, 3, 2, 1, 3, 3])"
      ]
     },
     "execution_count": 99,
     "metadata": {},
     "output_type": "execute_result"
    }
   ],
   "source": [
    "np.random.randint(1,5, size =10)"
   ]
  },
  {
   "cell_type": "code",
   "execution_count": 101,
   "id": "ec67eca0-1bd6-4ad4-a42b-ec0b303b9621",
   "metadata": {},
   "outputs": [],
   "source": [
    "y = np.array([[1,2,3],[4,5,6],[7,8,9]])"
   ]
  },
  {
   "cell_type": "code",
   "execution_count": 103,
   "id": "c837dcb5-3b32-48af-8db4-2e47a372587e",
   "metadata": {},
   "outputs": [
    {
     "data": {
      "text/plain": [
       "array([[1, 2, 3],\n",
       "       [4, 5, 6],\n",
       "       [7, 8, 9]])"
      ]
     },
     "execution_count": 103,
     "metadata": {},
     "output_type": "execute_result"
    }
   ],
   "source": [
    "y[[0,1,2]]"
   ]
  },
  {
   "cell_type": "code",
   "execution_count": 104,
   "id": "b7b3f258-451a-4657-b27e-eb6986a53c7d",
   "metadata": {},
   "outputs": [
    {
     "data": {
      "text/plain": [
       "array([[1, 2, 3],\n",
       "       [4, 5, 6],\n",
       "       [1, 2, 3]])"
      ]
     },
     "execution_count": 104,
     "metadata": {},
     "output_type": "execute_result"
    }
   ],
   "source": [
    "y[[0,1,0]]"
   ]
  },
  {
   "cell_type": "code",
   "execution_count": 105,
   "id": "b816600a-6958-4448-9bf9-fd2661661913",
   "metadata": {},
   "outputs": [
    {
     "data": {
      "text/plain": [
       "array([1, 2, 3])"
      ]
     },
     "execution_count": 105,
     "metadata": {},
     "output_type": "execute_result"
    }
   ],
   "source": [
    "y[[0,1,2][0]]"
   ]
  },
  {
   "cell_type": "code",
   "execution_count": 111,
   "id": "c97eafd4-b113-4b61-b7b8-cd39bea18cb1",
   "metadata": {},
   "outputs": [
    {
     "data": {
      "text/plain": [
       "array([1, 5, 7])"
      ]
     },
     "execution_count": 111,
     "metadata": {},
     "output_type": "execute_result"
    }
   ],
   "source": [
    "y[[0,1,2],[0,1,0]]"
   ]
  }
 ],
 "metadata": {
  "kernelspec": {
   "display_name": "Python 3 (ipykernel)",
   "language": "python",
   "name": "python3"
  },
  "language_info": {
   "codemirror_mode": {
    "name": "ipython",
    "version": 3
   },
   "file_extension": ".py",
   "mimetype": "text/x-python",
   "name": "python",
   "nbconvert_exporter": "python",
   "pygments_lexer": "ipython3",
   "version": "3.8.2"
  }
 },
 "nbformat": 4,
 "nbformat_minor": 5
}
