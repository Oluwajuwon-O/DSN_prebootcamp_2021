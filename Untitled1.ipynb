{
 "cells": [
  {
   "cell_type": "code",
   "execution_count": 1,
   "id": "eacfb21f-ae2f-4332-bd6d-e2232d2dbe01",
   "metadata": {},
   "outputs": [],
   "source": [
    "from sklearn.datasets import load_boston"
   ]
  },
  {
   "cell_type": "code",
   "execution_count": 2,
   "id": "61476957-98db-43a5-9fca-b8ef77f62da7",
   "metadata": {},
   "outputs": [],
   "source": [
    "x,y = load_boston(return_X_y = True)"
   ]
  },
  {
   "cell_type": "code",
   "execution_count": 9,
   "id": "6013cc81-f7eb-45cd-8ebc-f8057ebec2d9",
   "metadata": {},
   "outputs": [],
   "source": [
    "from sklearn.preprocessing import StandardScaler\n",
    "from sklearn.neighbors import KNeighborsRegressor\n",
    "from sklearn.pipeline import Pipeline\n",
    "import matplotlib.pylab as plt\n",
    "from sklearn.model_selection import GridSearchCV"
   ]
  },
  {
   "cell_type": "code",
   "execution_count": 11,
   "id": "d9c4b35a-49d3-4458-ac47-edd53f0f987b",
   "metadata": {},
   "outputs": [],
   "source": [
    "pipe = Pipeline([(\"scale\", StandardScaler()),\n",
    "                (\"model\" ,KNeighborsRegressor(n_neighbors =1))])\n",
    "param_grid = {'model__n_neighbors' : [1,2,3,4,5,6,7,8,9,10]}"
   ]
  },
  {
   "cell_type": "code",
   "execution_count": 13,
   "id": "9f0018bc-c77d-4ec3-8334-2de0aaa0b745",
   "metadata": {},
   "outputs": [],
   "source": [
    "mod = GridSearchCV(pipe, param_grid, cv =3)"
   ]
  },
  {
   "cell_type": "code",
   "execution_count": 15,
   "id": "14d7338a-d8fc-438c-986d-d31d1cba4b8e",
   "metadata": {},
   "outputs": [
    {
     "data": {
      "text/plain": [
       "GridSearchCV(cv=3,\n",
       "             estimator=Pipeline(steps=[('scale', StandardScaler()),\n",
       "                                       ('model',\n",
       "                                        KNeighborsRegressor(n_neighbors=1))]),\n",
       "             param_grid={'model__n_neighbors': [1, 2, 3, 4, 5, 6, 7, 8, 9, 10]})"
      ]
     },
     "execution_count": 15,
     "metadata": {},
     "output_type": "execute_result"
    }
   ],
   "source": [
    "mod.fit(x,y)"
   ]
  }
 ],
 "metadata": {
  "kernelspec": {
   "display_name": "Python 3 (ipykernel)",
   "language": "python",
   "name": "python3"
  },
  "language_info": {
   "codemirror_mode": {
    "name": "ipython",
    "version": 3
   },
   "file_extension": ".py",
   "mimetype": "text/x-python",
   "name": "python",
   "nbconvert_exporter": "python",
   "pygments_lexer": "ipython3",
   "version": "3.8.2"
  }
 },
 "nbformat": 4,
 "nbformat_minor": 5
}
